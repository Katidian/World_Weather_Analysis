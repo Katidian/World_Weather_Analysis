{
 "cells": [
  {
   "cell_type": "code",
   "execution_count": 9,
   "id": "cbf8e629",
   "metadata": {},
   "outputs": [],
   "source": [
    "# Import dependencies and API key\n",
    "\n",
    "import pandas as pd\n",
    "import numpy as np\n",
    "import matplotlib.pyplot as plt\n",
    "import time\n",
    "import requests\n",
    "\n",
    "from datetime import datetime\n",
    "from citipy import citipy\n",
    "\n",
    "from config import weather_api_key"
   ]
  },
  {
   "cell_type": "code",
   "execution_count": 10,
   "id": "8934e691",
   "metadata": {},
   "outputs": [
    {
     "data": {
      "text/plain": [
       "<zip at 0x1fe049296c0>"
      ]
     },
     "execution_count": 10,
     "metadata": {},
     "output_type": "execute_result"
    }
   ],
   "source": [
    "# Create a set of random latitude and longitude combinations\n",
    "\n",
    "lats = np.random.uniform(low=-90, high=90, size=1500)\n",
    "lngs = np.random.uniform(low=-180, high=180, size=1500)\n",
    "\n",
    "lat_lngs = zip(lats, lngs)\n",
    "\n",
    "lat_lngs"
   ]
  },
  {
   "cell_type": "code",
   "execution_count": 11,
   "id": "b544d0b8",
   "metadata": {},
   "outputs": [],
   "source": [
    "# Add the latitudes and longitudes to a list\n",
    "\n",
    "coordinates = list(lat_lngs)"
   ]
  },
  {
   "cell_type": "code",
   "execution_count": 12,
   "id": "ae76bb21",
   "metadata": {},
   "outputs": [
    {
     "data": {
      "text/plain": [
       "636"
      ]
     },
     "execution_count": 12,
     "metadata": {},
     "output_type": "execute_result"
    }
   ],
   "source": [
    "# Create a list to hold the cities\n",
    "\n",
    "cities = []\n",
    "\n",
    "# Find the nearest city for each set of coordinates\n",
    "\n",
    "for coordinate in coordinates:\n",
    "    city = citipy.nearest_city(coordinate[0], coordinate[1]).city_name\n",
    "    \n",
    "    # Add the city to the cities list if it's not already in there\n",
    "    if city not in cities:\n",
    "        cities.append(city)\n",
    "\n",
    "# Print the city count\n",
    "\n",
    "len(cities)"
   ]
  },
  {
   "cell_type": "code",
   "execution_count": 14,
   "id": "0d5ed43f",
   "metadata": {},
   "outputs": [
    {
     "data": {
      "text/plain": [
       "'https://api.openweathermap.org/data/2.5/weather?units=imperial&appid=5550e2938f6e2d7dfc4df5577f452a71'"
      ]
     },
     "execution_count": 14,
     "metadata": {},
     "output_type": "execute_result"
    }
   ],
   "source": [
    "# Create starting URL for API call\n",
    "# Format from OpenWeather:\n",
    "# https://api.openweathermap.org/data/2.5/weather?q={city name}&appid={API key}\n",
    "\n",
    "url = \"https://api.openweathermap.org/data/2.5/weather?units=imperial&appid=\" + weather_api_key"
   ]
  },
  {
   "cell_type": "code",
   "execution_count": 15,
   "id": "76482d10",
   "metadata": {},
   "outputs": [
    {
     "data": {
      "text/plain": [
       "'https://api.openweathermap.org/data/2.5/weather?units=imperial&appid=5550e2938f6e2d7dfc4df5577f452a71&q=Boston'"
      ]
     },
     "execution_count": 15,
     "metadata": {},
     "output_type": "execute_result"
    }
   ],
   "source": [
    "url_boston = url + \"&q=\" + \"Boston\"\n",
    "url_boston"
   ]
  },
  {
   "cell_type": "code",
   "execution_count": 5,
   "id": "77bfe4fa",
   "metadata": {},
   "outputs": [
    {
     "name": "stdout",
     "output_type": "stream",
     "text": [
      "Beginning data retrieval               \n",
      "---------------------------------------\n"
     ]
    }
   ],
   "source": [
    "# Create an empty list to hold the weather data\n",
    "\n",
    "city_data = []\n",
    "\n",
    "# Print the beginning of the log\n",
    "\n",
    "print(\"Beginning data retrieval               \")\n",
    "print(\"---------------------------------------\")\n",
    "\n",
    "# Create counters\n",
    "\n",
    "record_count = 1\n",
    "set_count = 1"
   ]
  },
  {
   "cell_type": "code",
   "execution_count": null,
   "id": "1e7314ac",
   "metadata": {},
   "outputs": [],
   "source": [
    "# Loop through all our cities\n",
    "for i, city in enumerate(cities):\n",
    "    \n",
    "    # Group cities in sets of 50 for logging purposes\n",
    "    # If i is at least 50 and is divisible by 50, then we have started a new set.\n",
    "    if (i % 50 == 0 and i >= 50):\n",
    "        set_count += 1\n",
    "        record_count = 1\n",
    "        #After looping through 50 cities, we need to pause for a minute to avoid making too many API calls/minute.\n",
    "        time.sleep(60)\n",
    "        \n",
    "    # Create endpoint URL for a city\n",
    "    # If a city name has a space, we need to replace it with a plus sign in the URl\n",
    "    city_url = url + \"&q=\" + city.replace(\" \", \"+\")\n",
    "\n",
    "# Log the URl, the record and set numbers, and the city\n",
    "print(f\"Processing record {record_count} of set {set_count} | {city}\")\n",
    "\n",
    "# Add one to the record count\n",
    "record_count += 1\n",
    "\n",
    "# Run an API request for each city\n",
    "try:\n",
    "    #Retrieve data; parse JSON\n",
    "    city_weather = requests.get(city_url).json()\n",
    "    \n",
    "    #Get the data points we need\n",
    "    city_lat = city_weather[\"coord\"][\"lat\"]\n",
    "    city_lng = city_weather[\"coord\"][\"lon\"]\n",
    "    city_max_temp = city_weather[\"main\"][\"temp_max\"]\n",
    "    city_humidity = city_weather[\"main\"][\"humidity\"]\n",
    "    city_clouds = city_weather[\"clouds\"][\"all\"]\n",
    "    city_wind = city_weather[\"wind\"][\"speed\"]\n",
    "    city_country = city_weather[\"sys\"][\"country\"]\n",
    "\n",
    "    \n"
   ]
  },
  {
   "cell_type": "code",
   "execution_count": null,
   "id": "48aa5f37",
   "metadata": {},
   "outputs": [],
   "source": []
  },
  {
   "cell_type": "code",
   "execution_count": null,
   "id": "8e37d34e",
   "metadata": {},
   "outputs": [],
   "source": []
  },
  {
   "cell_type": "code",
   "execution_count": null,
   "id": "36b93df7",
   "metadata": {},
   "outputs": [],
   "source": []
  }
 ],
 "metadata": {
  "kernelspec": {
   "display_name": "Python 3 (ipykernel)",
   "language": "python",
   "name": "python3"
  },
  "language_info": {
   "codemirror_mode": {
    "name": "ipython",
    "version": 3
   },
   "file_extension": ".py",
   "mimetype": "text/x-python",
   "name": "python",
   "nbconvert_exporter": "python",
   "pygments_lexer": "ipython3",
   "version": "3.9.12"
  }
 },
 "nbformat": 4,
 "nbformat_minor": 5
}
